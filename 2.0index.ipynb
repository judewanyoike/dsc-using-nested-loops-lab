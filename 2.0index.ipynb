{
 "cells": [
  {
   "cell_type": "markdown",
   "metadata": {},
   "source": [
    "# Using Nested Loops - Lab"
   ]
  },
  {
   "cell_type": "markdown",
   "metadata": {},
   "source": [
    "## Introduction\n",
    "In this lab, you'll practice using nested loops to iterate over nested data structures and create new collections. To do this, you'll be using data from a soccer match to practice our nested loops."
   ]
  },
  {
   "cell_type": "markdown",
   "metadata": {},
   "source": [
    "## Objectives\n",
    "\n",
    "You will be able to:\n",
    "\n",
    "* Use a nested loop when it is appropriate"
   ]
  },
  {
   "cell_type": "markdown",
   "metadata": {},
   "source": [
    "## Instructions"
   ]
  },
  {
   "cell_type": "markdown",
   "metadata": {},
   "source": [
    "Use nested loops and the below object, `soccer_match`, to complete the following prompts and get the desired return values."
   ]
  },
  {
   "cell_type": "code",
   "execution_count": 3,
   "metadata": {},
   "outputs": [],
   "source": [
    "# Run this cell without changes\n",
    "soccer_match = [\n",
    "  { \"home_team\": True,\n",
    "    \"away_team\": False,\n",
    "    \"country\": \"France\",\n",
    "    \"num_passes\": 484,\n",
    "    \"passes_completed\": 423,\n",
    "    \"fouls_committed\": 16,\n",
    "    \"colors\": [\"blue\", \"white\", \"red\"],\n",
    "    \"players\": [\n",
    "      {\n",
    "        \"name\": \"Hugo LLORIS\",\n",
    "        \"captain\": True,\n",
    "        \"shirt_number\": 1,\n",
    "        \"position\": \"Goalie\"\n",
    "      },\n",
    "      {\n",
    "        \"name\": \"Benjamin PAVARD\",\n",
    "        \"captain\": False,\n",
    "        \"shirt_number\": 2,\n",
    "        \"position\": \"Defender\"\n",
    "      },\n",
    "      {\n",
    "        \"name\": \"Raphael VARANE\",\n",
    "        \"captain\": False,\n",
    "        \"shirt_number\": 4,\n",
    "        \"position\": \"Defender\"\n",
    "      },\n",
    "      {\n",
    "        \"name\": \"Samuel UMTITI\",\n",
    "        \"captain\": False,\n",
    "        \"shirt_number\": 5,\n",
    "        \"position\": \"Defender\"\n",
    "      },\n",
    "      {\n",
    "        \"name\": \"Paul POGBA\",\n",
    "        \"captain\": False,\n",
    "        \"shirt_number\": 6,\n",
    "        \"position\": \"Midfield\"\n",
    "      },\n",
    "      {\n",
    "        \"name\": \"Antoine GRIEZMANN\",\n",
    "        \"captain\": False,\n",
    "        \"shirt_number\": 7,\n",
    "        \"position\": \"Forward\"\n",
    "      },\n",
    "      {\n",
    "        \"name\": \"Kylian MBAPPE\",\n",
    "        \"captain\": False,\n",
    "        \"shirt_number\": 10,\n",
    "        \"position\": \"Forward\"\n",
    "      },\n",
    "      {\n",
    "        \"name\": \"Ousmane DEMBELE\",\n",
    "        \"captain\": False,\n",
    "        \"shirt_number\": 11,\n",
    "        \"position\": \"Forward\"\n",
    "      },\n",
    "      {\n",
    "        \"name\": \"Corentin TOLISSO\",\n",
    "        \"captain\": False,\n",
    "        \"shirt_number\": 12,\n",
    "        \"position\": \"Midfield\"\n",
    "      },\n",
    "      {\n",
    "        \"name\": \"Ngolo KANTE\",\n",
    "        \"captain\": False,\n",
    "        \"shirt_number\": 13,\n",
    "        \"position\": \"Midfield\"\n",
    "      },\n",
    "      {\n",
    "        \"name\": \"Lucas HERNANDEZ\",\n",
    "        \"captain\": False,\n",
    "        \"shirt_number\": 21,\n",
    "        \"position\": \"Defender\"\n",
    "      }\n",
    "    ],\n",
    "  },\n",
    "  { \"home_team\": False,\n",
    "    \"away_team\": True,\n",
    "    \"country\": \"Australia\",\n",
    "    \"num_passes\": 390,\n",
    "    \"passes_completed\": 332,\n",
    "    \"fouls_committed\": 19,\n",
    "    \"colors\": [\"green\", \"gold\"],\n",
    "    \"players\": [\n",
    "      {\n",
    "        \"name\": \"Mathew RYAN\",\n",
    "        \"captain\": False,\n",
    "        \"shirt_number\": 1,\n",
    "        \"position\": \"Goalie\"\n",
    "      },\n",
    "      {\n",
    "        \"name\": \"Mark MILLIGAN\",\n",
    "        \"captain\": False,\n",
    "        \"shirt_number\": 5,\n",
    "        \"position\": \"Defender\"\n",
    "      },\n",
    "      {\n",
    "        \"name\": \"Mathew LECKIE\",\n",
    "        \"captain\": False,\n",
    "        \"shirt_number\": 7,\n",
    "        \"position\": \"Forward\"\n",
    "      },\n",
    "      {\n",
    "        \"name\": \"Robbie KRUSE\",\n",
    "        \"captain\": False,\n",
    "        \"shirt_number\": 10,\n",
    "        \"position\": \"Forward\"\n",
    "      },\n",
    "      {\n",
    "        \"name\": \"Andrew NABBOUT\",\n",
    "        \"captain\": False,\n",
    "        \"shirt_number\": 11,\n",
    "        \"position\": \"Forward\"\n",
    "      },\n",
    "      {\n",
    "        \"name\": \"Aaron MOOY\",\n",
    "        \"captain\": False,\n",
    "        \"shirt_number\": 13,\n",
    "        \"position\": \"Midfield\"\n",
    "      },\n",
    "      {\n",
    "        \"name\": \"Mile JEDINAK\",\n",
    "        \"captain\": True,\n",
    "        \"shirt_number\": 15,\n",
    "        \"position\": \"Midfield\"\n",
    "      },\n",
    "      {\n",
    "        \"name\": \"Aziz BEHICH\",\n",
    "        \"captain\": False,\n",
    "        \"shirt_number\": 16,\n",
    "        \"position\": \"Defender\"\n",
    "      },\n",
    "      {\n",
    "        \"name\": \"Joshua RISDON\",\n",
    "        \"captain\": False,\n",
    "        \"shirt_number\": 19,\n",
    "        \"position\": \"Defender\"\n",
    "      },\n",
    "      {\n",
    "        \"name\": \"Trent SAINSBURY\",\n",
    "        \"captain\": False,\n",
    "        \"shirt_number\": 20,\n",
    "        \"position\": \"Defender\"\n",
    "      },\n",
    "      {\n",
    "        \"name\": \"Tom ROGIC\",\n",
    "        \"captain\": False,\n",
    "        \"shirt_number\": 23,\n",
    "        \"position\": \"Midfield\"\n",
    "      }\n",
    "    ]\n",
    "  }\n",
    "]"
   ]
  },
  {
   "cell_type": "markdown",
   "metadata": {},
   "source": [
    "Let's take a look at some properties of this nested data structure:"
   ]
  },
  {
   "cell_type": "code",
   "execution_count": 4,
   "metadata": {},
   "outputs": [
    {
     "name": "stdout",
     "output_type": "stream",
     "text": [
      "Information about soccer_match\n",
      "Type: <class 'list'>\n",
      "Length: 2\n",
      "\n",
      "Information about soccer_match[0]:\n",
      "Type: <class 'dict'>\n",
      "Length: 8\n",
      "Keys: dict_keys(['home_team', 'away_team', 'country', 'num_passes', 'passes_completed', 'fouls_committed', 'colors', 'players'])\n",
      "Values: dict_values([False, True, 'Australia', 390, 332, 19, ['green', 'gold'], [{'name': 'Mathew RYAN', 'captain': False, 'shirt_number': 1, 'position': 'Goalie'}, {'name': 'Mark MILLIGAN', 'captain': False, 'shirt_number': 5, 'position': 'Defender'}, {'name': 'Mathew LECKIE', 'captain': False, 'shirt_number': 7, 'position': 'Forward'}, {'name': 'Robbie KRUSE', 'captain': False, 'shirt_number': 10, 'position': 'Forward'}, {'name': 'Andrew NABBOUT', 'captain': False, 'shirt_number': 11, 'position': 'Forward'}, {'name': 'Aaron MOOY', 'captain': False, 'shirt_number': 13, 'position': 'Midfield'}, {'name': 'Mile JEDINAK', 'captain': True, 'shirt_number': 15, 'position': 'Midfield'}, {'name': 'Aziz BEHICH', 'captain': False, 'shirt_number': 16, 'position': 'Defender'}, {'name': 'Joshua RISDON', 'captain': False, 'shirt_number': 19, 'position': 'Defender'}, {'name': 'Trent SAINSBURY', 'captain': False, 'shirt_number': 20, 'position': 'Defender'}, {'name': 'Tom ROGIC', 'captain': False, 'shirt_number': 23, 'position': 'Midfield'}]])\n"
     ]
    }
   ],
   "source": [
    "# Run this cell without changes\n",
    "\n",
    "print(\"Information about soccer_match\")\n",
    "print(\"Type:\", type(soccer_match))\n",
    "print(\"Length:\", len(soccer_match))\n",
    "print()\n",
    "\n",
    "print(\"Information about soccer_match[0]:\")\n",
    "print(\"Type:\", type(soccer_match[0]))\n",
    "print(\"Length:\", len(soccer_match[0]))\n",
    "print(\"Keys:\", soccer_match[0].keys())\n",
    "print(\"Values:\", soccer_match[1].values())"
   ]
  },
  {
   "cell_type": "markdown",
   "metadata": {},
   "source": [
    "Before looking at the answer below, try to identify: **what does `soccer_match` represent overall, and what does each record within `soccer_match` represent?**\n",
    "\n",
    ".\n",
    "\n",
    ".\n",
    "\n",
    ".\n",
    "\n",
    "*`soccer_match` represents a soccer match (game) containing a home team and an away team. Each record within `soccer_match` represents a team that participated in the match, and their associated stats.*"
   ]
  },
  {
   "cell_type": "markdown",
   "metadata": {},
   "source": [
    "## Countries: A List of Strings\n",
    "\n",
    "In the cell below, iterate over the `soccer_match` list to create a new list with the name of the country for each team. "
   ]
  },
  {
   "cell_type": "code",
   "execution_count": 16,
   "metadata": {},
   "outputs": [
    {
     "data": {
      "text/plain": [
       "['France', 'Australia']"
      ]
     },
     "execution_count": 16,
     "metadata": {},
     "output_type": "execute_result"
    }
   ],
   "source": [
    "countries = []\n",
    "\n",
    "# Your code here\n",
    "\n",
    "countries # ['France', 'Australia']\n",
    "\n",
    "#Answer:\n",
    "countries = [team[\"country\"] for team in soccer_match]\n",
    "countries\n"
   ]
  },
  {
   "cell_type": "code",
   "execution_count": 17,
   "metadata": {},
   "outputs": [
    {
     "data": {
      "text/plain": [
       "['France', 'Australia']"
      ]
     },
     "execution_count": 17,
     "metadata": {},
     "output_type": "execute_result"
    }
   ],
   "source": [
    "countries = [bobo[\"country\"] for bobo in soccer_match]\n",
    "countries\n"
   ]
  },
  {
   "cell_type": "code",
   "execution_count": 18,
   "metadata": {},
   "outputs": [
    {
     "ename": "NameError",
     "evalue": "name 'name_of_dict_nested_list' is not defined",
     "output_type": "error",
     "traceback": [
      "\u001b[1;31m---------------------------------------------------------------------------\u001b[0m",
      "\u001b[1;31mNameError\u001b[0m                                 Traceback (most recent call last)",
      "Cell \u001b[1;32mIn[18], line 3\u001b[0m\n\u001b[0;32m      1\u001b[0m \u001b[38;5;66;03m#Formula to Print values from a Dict_nested_list\u001b[39;00m\n\u001b[1;32m----> 3\u001b[0m variable1\u001b[38;5;241m=\u001b[39m [looping_variable1[\u001b[38;5;124m\"\u001b[39m\u001b[38;5;124mKey we want values\u001b[39m\u001b[38;5;124m\"\u001b[39m] \u001b[38;5;28;01mfor\u001b[39;00m looping_variable1 \u001b[38;5;129;01min\u001b[39;00m name_of_dict_nested_list]\n\u001b[0;32m      4\u001b[0m variable\n",
      "\u001b[1;31mNameError\u001b[0m: name 'name_of_dict_nested_list' is not defined"
     ]
    }
   ],
   "source": [
    "#Formula to Print values from a Dict_nested_list\n",
    "\n",
    "variable1= [looping_variable1[\"Key we want values\"] for looping_variable1 in name_of_dict_nested_list]\n",
    "variable"
   ]
  },
  {
   "cell_type": "markdown",
   "metadata": {},
   "source": [
    "## Colors: Another List of Strings!\n",
    "\n",
    "In the cell below, iterate over the `soccer_match` list to create a new list with the colors for each team.\n",
    "\n",
    "This should be only one list containing strings for each of the country's colors, not a list of lists."
   ]
  },
  {
   "cell_type": "code",
   "execution_count": 19,
   "metadata": {},
   "outputs": [
    {
     "data": {
      "text/plain": [
       "['blue', 'white', 'red', 'green', 'gold']"
      ]
     },
     "execution_count": 19,
     "metadata": {},
     "output_type": "execute_result"
    }
   ],
   "source": [
    "colors = []\n",
    "\n",
    "# Your code here\n",
    "\n",
    "colors # ['blue', 'white', 'red', 'green', 'gold']\n",
    "\n",
    "# answer\n",
    "colors = [color for team in soccer_match for color in team[\"colors\"]]\n",
    "colors"
   ]
  },
  {
   "cell_type": "code",
   "execution_count": 20,
   "metadata": {},
   "outputs": [
    {
     "ename": "NameError",
     "evalue": "name 'dict_nested_list' is not defined",
     "output_type": "error",
     "traceback": [
      "\u001b[1;31m---------------------------------------------------------------------------\u001b[0m",
      "\u001b[1;31mNameError\u001b[0m                                 Traceback (most recent call last)",
      "Cell \u001b[1;32mIn[20], line 6\u001b[0m\n\u001b[0;32m      1\u001b[0m \u001b[38;5;66;03m#FORMULA FOR ABOVE CODE:\u001b[39;00m\n\u001b[0;32m      2\u001b[0m \u001b[38;5;66;03m# Simply-we first for loop into the dict_nested_list, then for loop into the already used looping_variable to get the key\u001b[39;00m\n\u001b[1;32m----> 6\u001b[0m new_variable \u001b[38;5;241m=\u001b[39m [ looping_variable_2 \u001b[38;5;28;01mfor\u001b[39;00m looping_variable_1 \u001b[38;5;129;01min\u001b[39;00m dict_nested_list \u001b[38;5;28;01mfor\u001b[39;00m looping_variable_1 \u001b[38;5;129;01min\u001b[39;00m looping_variable_2[\u001b[38;5;124m'\u001b[39m\u001b[38;5;124mkey we want\u001b[39m\u001b[38;5;124m'\u001b[39m]]\n",
      "\u001b[1;31mNameError\u001b[0m: name 'dict_nested_list' is not defined"
     ]
    }
   ],
   "source": [
    "#FORMULA FOR ABOVE CODE:\n",
    "# Simply-we first for loop into the dict_nested_list, then for loop into the already used looping_variable to get the key\n",
    "\n",
    "\n",
    "\n",
    "new_variable = [ looping_variable_2 for looping_variable_1 in dict_nested_list for looping_variable_1 in looping_variable_2['key we want']]"
   ]
  },
  {
   "cell_type": "code",
   "execution_count": 10,
   "metadata": {},
   "outputs": [
    {
     "name": "stdout",
     "output_type": "stream",
     "text": [
      "blue\n",
      "white\n",
      "red\n",
      "green\n",
      "gold\n"
     ]
    }
   ],
   "source": [
    "#Alternative answer with list\n",
    "for team in soccer_match:\n",
    "    for color in team[\"colors\"]:\n",
    "        print(color)\n",
    "          "
   ]
  },
  {
   "cell_type": "code",
   "execution_count": 11,
   "metadata": {},
   "outputs": [
    {
     "ename": "SyntaxError",
     "evalue": "invalid syntax (2264333092.py, line 2)",
     "output_type": "error",
     "traceback": [
      "\u001b[1;36m  Cell \u001b[1;32mIn[11], line 2\u001b[1;36m\u001b[0m\n\u001b[1;33m    colors = [looping_variable2 for looping_variable1 in variable_of_dict_nested_list for looping_varaiable2 in looping _variable1[\"Key in dict_nested_list\"]]\u001b[0m\n\u001b[1;37m                                                                                                                        ^\u001b[0m\n\u001b[1;31mSyntaxError\u001b[0m\u001b[1;31m:\u001b[0m invalid syntax\n"
     ]
    }
   ],
   "source": [
    "for looping_variable_1 in dict_nested_list:\n",
    "    for looping_variable_2 in looping_variable_1[\"key we want\"]:\n",
    "        print(looping_variable_2)"
   ]
  },
  {
   "cell_type": "markdown",
   "metadata": {},
   "source": [
    "## Players: A List of Dictionaries\n",
    "\n",
    "This time, iterate over the `soccer_match` list to create a new list with the players from each team. `players` should be a single list containing the dictionaries for each of the country's players."
   ]
  },
  {
   "cell_type": "code",
   "execution_count": 12,
   "metadata": {},
   "outputs": [
    {
     "name": "stdout",
     "output_type": "stream",
     "text": [
      "[]\n",
      "[{'name': 'Hugo LLORIS', 'captain': True, 'shirt_number': 1, 'position': 'Goalie'}, {'name': 'Benjamin PAVARD', 'captain': False, 'shirt_number': 2, 'position': 'Defender'}, {'name': 'Raphael VARANE', 'captain': False, 'shirt_number': 4, 'position': 'Defender'}, {'name': 'Samuel UMTITI', 'captain': False, 'shirt_number': 5, 'position': 'Defender'}, {'name': 'Paul POGBA', 'captain': False, 'shirt_number': 6, 'position': 'Midfield'}, {'name': 'Antoine GRIEZMANN', 'captain': False, 'shirt_number': 7, 'position': 'Forward'}, {'name': 'Kylian MBAPPE', 'captain': False, 'shirt_number': 10, 'position': 'Forward'}, {'name': 'Ousmane DEMBELE', 'captain': False, 'shirt_number': 11, 'position': 'Forward'}, {'name': 'Corentin TOLISSO', 'captain': False, 'shirt_number': 12, 'position': 'Midfield'}, {'name': 'Ngolo KANTE', 'captain': False, 'shirt_number': 13, 'position': 'Midfield'}, {'name': 'Lucas HERNANDEZ', 'captain': False, 'shirt_number': 21, 'position': 'Defender'}, {'name': 'Mathew RYAN', 'captain': False, 'shirt_number': 1, 'position': 'Goalie'}, {'name': 'Mark MILLIGAN', 'captain': False, 'shirt_number': 5, 'position': 'Defender'}, {'name': 'Mathew LECKIE', 'captain': False, 'shirt_number': 7, 'position': 'Forward'}, {'name': 'Robbie KRUSE', 'captain': False, 'shirt_number': 10, 'position': 'Forward'}, {'name': 'Andrew NABBOUT', 'captain': False, 'shirt_number': 11, 'position': 'Forward'}, {'name': 'Aaron MOOY', 'captain': False, 'shirt_number': 13, 'position': 'Midfield'}, {'name': 'Mile JEDINAK', 'captain': True, 'shirt_number': 15, 'position': 'Midfield'}, {'name': 'Aziz BEHICH', 'captain': False, 'shirt_number': 16, 'position': 'Defender'}, {'name': 'Joshua RISDON', 'captain': False, 'shirt_number': 19, 'position': 'Defender'}, {'name': 'Trent SAINSBURY', 'captain': False, 'shirt_number': 20, 'position': 'Defender'}, {'name': 'Tom ROGIC', 'captain': False, 'shirt_number': 23, 'position': 'Midfield'}]\n",
      "\n",
      "\n"
     ]
    }
   ],
   "source": [
    "players = []\n",
    "\n",
    "# Your code here\n",
    "\n",
    "print(players) # [{'name': 'Hugo LLORIS', 'captain': True, 'shirt_number': 1, 'position': 'Goalie'}, {'name': 'Benjamin PAVARD',...}, ...]\n",
    "\n",
    "#ANSWER\n",
    "players = [player for team in soccer_match for player in team[\"players\"]]:\n",
    "print(players )\n",
    "print('\\n')\n"
   ]
  },
  {
   "cell_type": "code",
   "execution_count": null,
   "metadata": {},
   "outputs": [],
   "source": [
    "#formula above code:\n",
    "new_variable = [ looping_variable_2 for looping_variable_1 in dict_nested_list for looping_variable_1 in looping_variable_2['key we want']]"
   ]
  },
  {
   "cell_type": "code",
   "execution_count": 27,
   "metadata": {},
   "outputs": [
    {
     "name": "stdout",
     "output_type": "stream",
     "text": [
      "{'name': 'Hugo LLORIS', 'captain': True, 'shirt_number': 1, 'position': 'Goalie'}\n",
      "\n",
      "{'name': 'Benjamin PAVARD', 'captain': False, 'shirt_number': 2, 'position': 'Defender'}\n",
      "\n",
      "{'name': 'Raphael VARANE', 'captain': False, 'shirt_number': 4, 'position': 'Defender'}\n",
      "\n",
      "{'name': 'Samuel UMTITI', 'captain': False, 'shirt_number': 5, 'position': 'Defender'}\n",
      "\n",
      "{'name': 'Paul POGBA', 'captain': False, 'shirt_number': 6, 'position': 'Midfield'}\n",
      "\n",
      "{'name': 'Antoine GRIEZMANN', 'captain': False, 'shirt_number': 7, 'position': 'Forward'}\n",
      "\n",
      "{'name': 'Kylian MBAPPE', 'captain': False, 'shirt_number': 10, 'position': 'Forward'}\n",
      "\n",
      "{'name': 'Ousmane DEMBELE', 'captain': False, 'shirt_number': 11, 'position': 'Forward'}\n",
      "\n",
      "{'name': 'Corentin TOLISSO', 'captain': False, 'shirt_number': 12, 'position': 'Midfield'}\n",
      "\n",
      "{'name': 'Ngolo KANTE', 'captain': False, 'shirt_number': 13, 'position': 'Midfield'}\n",
      "\n",
      "{'name': 'Lucas HERNANDEZ', 'captain': False, 'shirt_number': 21, 'position': 'Defender'}\n",
      "\n",
      "{'name': 'Mathew RYAN', 'captain': False, 'shirt_number': 1, 'position': 'Goalie'}\n",
      "\n",
      "{'name': 'Mark MILLIGAN', 'captain': False, 'shirt_number': 5, 'position': 'Defender'}\n",
      "\n",
      "{'name': 'Mathew LECKIE', 'captain': False, 'shirt_number': 7, 'position': 'Forward'}\n",
      "\n",
      "{'name': 'Robbie KRUSE', 'captain': False, 'shirt_number': 10, 'position': 'Forward'}\n",
      "\n",
      "{'name': 'Andrew NABBOUT', 'captain': False, 'shirt_number': 11, 'position': 'Forward'}\n",
      "\n",
      "{'name': 'Aaron MOOY', 'captain': False, 'shirt_number': 13, 'position': 'Midfield'}\n",
      "\n",
      "{'name': 'Mile JEDINAK', 'captain': True, 'shirt_number': 15, 'position': 'Midfield'}\n",
      "\n",
      "{'name': 'Aziz BEHICH', 'captain': False, 'shirt_number': 16, 'position': 'Defender'}\n",
      "\n",
      "{'name': 'Joshua RISDON', 'captain': False, 'shirt_number': 19, 'position': 'Defender'}\n",
      "\n",
      "{'name': 'Trent SAINSBURY', 'captain': False, 'shirt_number': 20, 'position': 'Defender'}\n",
      "\n",
      "{'name': 'Tom ROGIC', 'captain': False, 'shirt_number': 23, 'position': 'Midfield'}\n",
      "\n"
     ]
    }
   ],
   "source": [
    "# Ensures code is more executable:\n",
    "players = [player for team in soccer_match for player in team[\"players\"]]\n",
    "for player in players:\n",
    "    print(player)\n",
    "    print()  # This prints a blank line between each player"
   ]
  },
  {
   "cell_type": "code",
   "execution_count": 23,
   "metadata": {},
   "outputs": [
    {
     "ename": "NameError",
     "evalue": "name 'dict_nested_list' is not defined",
     "output_type": "error",
     "traceback": [
      "\u001b[1;31m---------------------------------------------------------------------------\u001b[0m",
      "\u001b[1;31mNameError\u001b[0m                                 Traceback (most recent call last)",
      "Cell \u001b[1;32mIn[23], line 2\u001b[0m\n\u001b[0;32m      1\u001b[0m \u001b[38;5;66;03m# FORMULA FOR CODE ABOVE:-\u001b[39;00m\n\u001b[1;32m----> 2\u001b[0m new_variable \u001b[38;5;241m=\u001b[39m [ looping_variable_2 \u001b[38;5;28;01mfor\u001b[39;00m looping_variable_1 \u001b[38;5;129;01min\u001b[39;00m dict_nested_list \u001b[38;5;28;01mfor\u001b[39;00m looping_variable_1 \u001b[38;5;129;01min\u001b[39;00m looping_variable_2[\u001b[38;5;124m'\u001b[39m\u001b[38;5;124mkey we want\u001b[39m\u001b[38;5;124m'\u001b[39m]]\n\u001b[0;32m      3\u001b[0m \u001b[38;5;28;01mfor\u001b[39;00m looping_variable_2 \u001b[38;5;129;01min\u001b[39;00m new_variable:\n\u001b[0;32m      4\u001b[0m     \u001b[38;5;28mprint\u001b[39m(looping_variable_2)\n",
      "\u001b[1;31mNameError\u001b[0m: name 'dict_nested_list' is not defined"
     ]
    }
   ],
   "source": [
    "# FORMULA FOR CODE ABOVE:-\n",
    "new_variable = [ looping_variable_2 for looping_variable_1 in dict_nested_list for looping_variable_1 in looping_variable_2['key we want']]\n",
    "for looping_variable_3 in new_variable:\n",
    "    print(looping_variable_3)\n",
    "    print()  # This prints a blank line between each player"
   ]
  },
  {
   "cell_type": "markdown",
   "metadata": {},
   "source": [
    "## Captains: Another List of Dictionaries!\n",
    "\n",
    "Iterate over the `soccer_match` list to create a new list with the captains from each team.\n",
    "\n",
    "This should be a single list containing the dictionaries for each of the countries' captains."
   ]
  },
  {
   "cell_type": "code",
   "execution_count": 22,
   "metadata": {},
   "outputs": [
    {
     "name": "stdout",
     "output_type": "stream",
     "text": [
      "[]\n",
      "[]\n"
     ]
    }
   ],
   "source": [
    "captains = []\n",
    "\n",
    "# Your code here\n",
    "\n",
    "captains # One captain per team:\n",
    "# [{'name': 'Hugo LLORIS',\n",
    "#   'captain': True,\n",
    "#   'shirt_number': 1,\n",
    "#   'position': 'Goalie'},\n",
    "#  {'name': 'Mile JEDINAK',\n",
    "#   'captain': True,\n",
    "#   'shirt_number': 15,\n",
    "#   'position': 'Midfield'}]\n",
    "\n",
    "#ANSWER:WRONG\n",
    "for team in soccer_match:\n",
    "    for player in team[\"players\"]:\n",
    "        if player[\"captain\"]:\n",
    "            print(captains)\n"
   ]
  },
  {
   "cell_type": "code",
   "execution_count": 29,
   "metadata": {},
   "outputs": [
    {
     "name": "stdout",
     "output_type": "stream",
     "text": [
      "{'name': 'Hugo LLORIS', 'captain': True, 'shirt_number': 1, 'position': 'Goalie'} \n",
      "\n",
      "{'name': 'Mile JEDINAK', 'captain': True, 'shirt_number': 15, 'position': 'Midfield'} \n",
      "\n"
     ]
    }
   ],
   "source": [
    "#ALTERNATIVELY\n",
    "captains = [player for team in soccer_match for player in team[\"players\"] if player[\"captain\"]]\n",
    "\n",
    "for captain in captains:\n",
    "    print(captain, '\\n')# } THIS , '\\n'(can also be a print())\n"
   ]
  },
  {
   "cell_type": "code",
   "execution_count": null,
   "metadata": {},
   "outputs": [],
   "source": [
    "#FORMULA FOR CODE ABOVE:\n",
    "new_variable = [ looping_variable_2 for looping_variable_1 in dict_nested_list for looping_variable_1 in looping_variable_2['key we want']]\n",
    "for looping_variable_3 in new_variable:\n",
    "    print(looping_variable_3)\n",
    "    print()  # This prints a blank line between each player"
   ]
  },
  {
   "cell_type": "markdown",
   "metadata": {},
   "source": [
    "## Home Team Players: A Third List of Dictionaries\n",
    "\n",
    "Iterate over the `soccer_match` list to create a new list with the players from ONLY the home team.\n",
    "\n",
    "Do not \"hard-code\" which team this is; use the `'home_team'` key."
   ]
  },
  {
   "cell_type": "code",
   "execution_count": 30,
   "metadata": {},
   "outputs": [
    {
     "name": "stdout",
     "output_type": "stream",
     "text": [
      "{'name': 'Hugo LLORIS', 'captain': True, 'shirt_number': 1, 'position': 'Goalie'}\n",
      "\n",
      "{'name': 'Benjamin PAVARD', 'captain': False, 'shirt_number': 2, 'position': 'Defender'}\n",
      "\n",
      "{'name': 'Raphael VARANE', 'captain': False, 'shirt_number': 4, 'position': 'Defender'}\n",
      "\n",
      "{'name': 'Samuel UMTITI', 'captain': False, 'shirt_number': 5, 'position': 'Defender'}\n",
      "\n",
      "{'name': 'Paul POGBA', 'captain': False, 'shirt_number': 6, 'position': 'Midfield'}\n",
      "\n",
      "{'name': 'Antoine GRIEZMANN', 'captain': False, 'shirt_number': 7, 'position': 'Forward'}\n",
      "\n",
      "{'name': 'Kylian MBAPPE', 'captain': False, 'shirt_number': 10, 'position': 'Forward'}\n",
      "\n",
      "{'name': 'Ousmane DEMBELE', 'captain': False, 'shirt_number': 11, 'position': 'Forward'}\n",
      "\n",
      "{'name': 'Corentin TOLISSO', 'captain': False, 'shirt_number': 12, 'position': 'Midfield'}\n",
      "\n",
      "{'name': 'Ngolo KANTE', 'captain': False, 'shirt_number': 13, 'position': 'Midfield'}\n",
      "\n",
      "{'name': 'Lucas HERNANDEZ', 'captain': False, 'shirt_number': 21, 'position': 'Defender'}\n",
      "\n"
     ]
    }
   ],
   "source": [
    "home_team_players = []\n",
    "\n",
    "# Your code here\n",
    "\n",
    "home_team_players\n",
    "\n",
    "# [{'name': 'Hugo LLORIS',\n",
    "#   'captain': True,\n",
    "#   'shirt_number': 1,\n",
    "#   'position': 'Goalie'},\n",
    "#  ...\n",
    "#  {'name': 'Lucas HERNANDEZ',\n",
    "#   'captain': False,\n",
    "#   'shirt_number': 21,\n",
    "#   'position': 'Defender'}]\n",
    "\n",
    "#ANSWER\n",
    "home_team_players = [player for team in soccer_match if team[\"home_team\"] for player in team[\"players\"]]\n",
    "for home_team_player in home_team_players:\n",
    "    print(home_team_player)\n",
    "    print()"
   ]
  },
  {
   "cell_type": "code",
   "execution_count": null,
   "metadata": {},
   "outputs": [],
   "source": [
    "new_variable = [looping_variable_2 for looping_variable_1 in dic_nested_list if looping_variable_1[\"1st key we want\"] for looping_variable_2 in looping_variable_1[\"2nd key we want\"]]\n",
    "for looping_variable_3 in new_variable:\n",
    "    print(looping_varaible_3)\n",
    "    print()"
   ]
  },
  {
   "cell_type": "markdown",
   "metadata": {},
   "source": [
    "## Away Team Forwards: Yup, a List of Dictionaries\n",
    "\n",
    "Iterate over the `soccer_match` list to create a new list with the information for each of the away team players whose `position` is `\"Forward\"`."
   ]
  },
  {
   "cell_type": "code",
   "execution_count": 33,
   "metadata": {},
   "outputs": [
    {
     "name": "stdout",
     "output_type": "stream",
     "text": [
      "{'name': 'Mathew LECKIE', 'captain': False, 'shirt_number': 7, 'position': 'Forward'}\n",
      "\n",
      "{'name': 'Robbie KRUSE', 'captain': False, 'shirt_number': 10, 'position': 'Forward'}\n",
      "\n",
      "{'name': 'Andrew NABBOUT', 'captain': False, 'shirt_number': 11, 'position': 'Forward'}\n",
      "\n"
     ]
    }
   ],
   "source": [
    "away_team_forwards = []\n",
    "\n",
    "# Your code here\n",
    "\n",
    "away_team_forwards\n",
    "# [{'name': 'Mathew LECKIE',\n",
    "#   'captain': False,\n",
    "#   'shirt_number': 7,\n",
    "#   'position': 'Forward'},\n",
    "#  {'name': 'Robbie KRUSE',\n",
    "#   'captain': False,\n",
    "#   'shirt_number': 10,\n",
    "#   'position': 'Forward'},\n",
    "#  {'name': 'Andrew NABBOUT',\n",
    "#   'captain': False,\n",
    "#   'shirt_number': 11,\n",
    "#   'position': 'Forward'}]\n",
    "\n",
    "# ANSWER\n",
    "away_team_forwards = [player for team in soccer_match if team[\"away_team\"] for player in team[\"players\"] if player[\"position\"] == \"Forward\"]\n",
    "for away_team_forward in away_team_forwards:\n",
    "    print(away_team_forward)\n",
    "    print()"
   ]
  },
  {
   "cell_type": "code",
   "execution_count": null,
   "metadata": {},
   "outputs": [],
   "source": [
    "new_variable = [looping_variable_2 for looping_variable_1 in dic_nested_list if looping_variable_1[\"1st key we want\"] for looping_variable_2 in looping_variable_1[\"2nd key we want\"]if looping_variable_2['3rd key we want']=='the 4th key we want']\n",
    "for looping_variable_3 in new_variable:\n",
    "    print(looping_varaible_3)\n",
    "    print()"
   ]
  },
  {
   "cell_type": "markdown",
   "metadata": {},
   "source": [
    "## Player with the Highest Number\n",
    "\n",
    "Iterate over the `soccer_match` list and find the player with the highest `shirt_number`.  \n",
    "Store this player's information in the `player_with_highest_num` variable."
   ]
  },
  {
   "cell_type": "code",
   "execution_count": 34,
   "metadata": {},
   "outputs": [
    {
     "data": {
      "text/plain": [
       "{'name': 'Tom ROGIC',\n",
       " 'captain': False,\n",
       " 'shirt_number': 23,\n",
       " 'position': 'Midfield'}"
      ]
     },
     "execution_count": 34,
     "metadata": {},
     "output_type": "execute_result"
    }
   ],
   "source": [
    "player_with_highest_num = None\n",
    "\n",
    "# Your code here\n",
    "\n",
    "player_with_highest_num\n",
    "# {'name': 'Tom ROGIC',\n",
    "#  'captain': False,\n",
    "#  'shirt_number': 23,\n",
    "#  'position': 'Midfield'}\n",
    "\n",
    "#ANSWER\n",
    "player_with_highest_num = max(\n",
    "    (player for team in soccer_match for player in team[\"players\"]),\n",
    "    key=lambda x: x[\"shirt_number\"]\n",
    ")\n",
    "\n",
    "player_with_highest_num"
   ]
  },
  {
   "cell_type": "code",
   "execution_count": null,
   "metadata": {},
   "outputs": [],
   "source": [
    "player_with_highest_num = None\n",
    "\n",
    "# Your code here\n",
    "\n",
    "player_with_highest_num\n",
    "# {'name': 'Tom ROGIC',\n",
    "#  'captain': False,\n",
    "#  'shirt_number': 23,\n",
    "#  'position': 'Midfield'}\n",
    "\n",
    "#ANSWER\n",
    "player_with_highest_num = max(\n",
    "    (player for team in soccer_match for player in team[\"players\"]),\n",
    "    key=lambda x: x[\"shirt_number\"]\n",
    ")\n",
    "\n",
    "player_with_highest_num"
   ]
  },
  {
   "cell_type": "code",
   "execution_count": null,
   "metadata": {},
   "outputs": [],
   "source": [
    "new_variable = max(\n",
    "    (looping_variable_2 for looping_variable_1 in dict_nested_list for looping_variable_2 in looping_variable_1[\"players\"]),\n",
    "    key=lambda x: x[\"keys we want to analyze no\"]\n",
    ")\n",
    "new_variable"
   ]
  },
  {
   "cell_type": "code",
   "execution_count": null,
   "metadata": {},
   "outputs": [],
   "source": [
    "# CODE TO DEMONSTRATE key lambda\n",
    "players = [\n",
    "    {\"name\": \"Alice\", \"shirt_number\": 10},\n",
    "    {\"name\": \"Bob\", \"shirt_number\": 25},\n",
    "    {\"name\": \"Charlie\", \"shirt_number\": 18}\n",
    "]\n",
    "\n",
    "# Find the player with the highest shirt number\n",
    "player_with_highest_num = max(players, key=lambda x: x[\"shirt_number\"])\n",
    "\n",
    "print(player_with_highest_num)"
   ]
  },
  {
   "cell_type": "markdown",
   "metadata": {},
   "source": [
    "## Player Names: A Cleaned List\n",
    "\n",
    "Notice that the players oddly have their last names in all caps. Create a list of all the names of the players in this match. Be sure to make sure their first and last names are properly capitalized (first letter upper case, proceeding letters lower case), as opposed to how they are currently formatted."
   ]
  },
  {
   "cell_type": "code",
   "execution_count": 36,
   "metadata": {},
   "outputs": [
    {
     "name": "stdout",
     "output_type": "stream",
     "text": [
      "Hugo Lloris\n",
      "\n",
      "Benjamin Pavard\n",
      "\n",
      "Raphael Varane\n",
      "\n",
      "Samuel Umtiti\n",
      "\n",
      "Paul Pogba\n",
      "\n",
      "Antoine Griezmann\n",
      "\n",
      "Kylian Mbappe\n",
      "\n",
      "Ousmane Dembele\n",
      "\n",
      "Corentin Tolisso\n",
      "\n",
      "Ngolo Kante\n",
      "\n",
      "Lucas Hernandez\n",
      "\n",
      "Mathew Ryan\n",
      "\n",
      "Mark Milligan\n",
      "\n",
      "Mathew Leckie\n",
      "\n",
      "Robbie Kruse\n",
      "\n",
      "Andrew Nabbout\n",
      "\n",
      "Aaron Mooy\n",
      "\n",
      "Mile Jedinak\n",
      "\n",
      "Aziz Behich\n",
      "\n",
      "Joshua Risdon\n",
      "\n",
      "Trent Sainsbury\n",
      "\n",
      "Tom Rogic\n",
      "\n"
     ]
    }
   ],
   "source": [
    "player_names = []\n",
    "\n",
    "# Your code here\n",
    "\n",
    "player_names\n",
    "# ['Hugo Lloris',\n",
    "#  'Benjamin Pavard',\n",
    "#  'Raphael Varane',\n",
    "#  'Samuel Umtiti',\n",
    "#  'Paul Pogba',\n",
    "#  'Antoine Griezmann',\n",
    "#  'Kylian Mbappe',\n",
    "#  'Ousmane Dembele',\n",
    "#  'Corentin Tolisso',\n",
    "#  'Ngolo Kante',\n",
    "#  'Lucas Hernandez',\n",
    "#  'Mathew Ryan',\n",
    "#  'Mark Milligan',\n",
    "#  'Mathew Leckie',\n",
    "#  'Robbie Kruse',\n",
    "#  'Andrew Nabbout',\n",
    "#  'Aaron Mooy',\n",
    "#  'Mile Jedinak',\n",
    "#  'Aziz Behich',\n",
    "#  'Joshua Risdon',\n",
    "#  'Trent Sainsbury',\n",
    "#  'Tom Rogic']\n",
    "\n",
    "# ANSWER\n",
    "player_names = [f\"{player['name'].split()[0].capitalize()} {player['name'].split()[1].capitalize()}\" for looping_variable_1 in dict_nested_list for looping_variable_2 in [\"key we want values\"]]\n",
    "for player_name in player_names:\n",
    "    print(player_name)\n",
    "    print()"
   ]
  },
  {
   "cell_type": "code",
   "execution_count": null,
   "metadata": {},
   "outputs": [],
   "source": [
    "new_variable = [f\"{player['name'].split()[0].capitalize()} {player['name'].split()[1].capitalize()}\" for team in soccer_match for player in team[\"players\"]]\n",
    "for player_name in player_names:\n",
    "    print(player_name)\n",
    "    print()"
   ]
  },
  {
   "cell_type": "code",
   "execution_count": 24,
   "metadata": {},
   "outputs": [
    {
     "name": "stdout",
     "output_type": "stream",
     "text": [
      "Hugo\n",
      "\n",
      "Benjamin\n",
      "\n",
      "Raphael\n",
      "\n",
      "Samuel\n",
      "\n",
      "Paul\n",
      "\n",
      "Antoine\n",
      "\n",
      "Kylian\n",
      "\n",
      "Ousmane\n",
      "\n",
      "Corentin\n",
      "\n",
      "Ngolo\n",
      "\n",
      "Lucas\n",
      "\n",
      "Mathew\n",
      "\n",
      "Mark\n",
      "\n",
      "Mathew\n",
      "\n",
      "Robbie\n",
      "\n",
      "Andrew\n",
      "\n",
      "Aaron\n",
      "\n",
      "Mile\n",
      "\n",
      "Aziz\n",
      "\n",
      "Joshua\n",
      "\n",
      "Trent\n",
      "\n",
      "Tom\n",
      "\n"
     ]
    }
   ],
   "source": [
    "# ANSWER\n",
    "# split()[0]- firstname \n",
    "# split()[1]- secondname\n",
    "player_names = [f\"{player['name'].split()[0].capitalize()}\" for team in soccer_match for player in team[\"players\"]]\n",
    "for player_name in player_names:\n",
    "    print(player_name)\n",
    "    print()"
   ]
  },
  {
   "cell_type": "code",
   "execution_count": null,
   "metadata": {},
   "outputs": [],
   "source": []
  },
  {
   "cell_type": "code",
   "execution_count": null,
   "metadata": {},
   "outputs": [],
   "source": []
  },
  {
   "cell_type": "markdown",
   "metadata": {},
   "source": [
    "## Summary"
   ]
  },
  {
   "cell_type": "markdown",
   "metadata": {},
   "source": [
    "In this lab, you practiced using nested loops to iterate through a nested data structure using data from a soccer match. Nested data structures can be quite complicated and it can become difficult to access more nested data. With nested loops, you are able to dynamically access this nested data and work with it as you would with a flatter data structure. It is important to think about the structure of the data before and while you're working so you know exactly what data you are working with at each level."
   ]
  }
 ],
 "metadata": {
  "kernelspec": {
   "display_name": "Python 3 (ipykernel)",
   "language": "python",
   "name": "python3"
  },
  "language_info": {
   "codemirror_mode": {
    "name": "ipython",
    "version": 3
   },
   "file_extension": ".py",
   "mimetype": "text/x-python",
   "name": "python",
   "nbconvert_exporter": "python",
   "pygments_lexer": "ipython3",
   "version": "3.12.7"
  },
  "toc": {
   "base_numbering": 1,
   "nav_menu": {},
   "number_sections": true,
   "sideBar": true,
   "skip_h1_title": false,
   "title_cell": "Table of Contents",
   "title_sidebar": "Contents",
   "toc_cell": false,
   "toc_position": {},
   "toc_section_display": true,
   "toc_window_display": false
  }
 },
 "nbformat": 4,
 "nbformat_minor": 4
}
